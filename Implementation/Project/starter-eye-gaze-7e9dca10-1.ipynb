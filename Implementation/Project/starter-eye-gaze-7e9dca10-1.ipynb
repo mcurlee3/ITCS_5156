{
 "cells": [
  {
   "cell_type": "markdown",
   "metadata": {},
   "source": [
    "## Introduction\n",
    "Greetings from the Kaggle bot! This is an automatically-generated kernel with starter code demonstrating how to read in the data and begin exploring. Click the blue \"Edit Notebook\" or \"Fork Notebook\" button at the top of this kernel to begin editing."
   ]
  },
  {
   "cell_type": "markdown",
   "metadata": {},
   "source": [
    "## Exploratory Analysis\n",
    "To begin this exploratory analysis, first use `matplotlib` to import libraries and define functions for plotting the data. Depending on the data, not all plots will be made. (Hey, I'm just a kerneling bot, not a Kaggle Competitions Grandmaster!)"
   ]
  },
  {
   "cell_type": "code",
   "execution_count": 1,
   "metadata": {
    "_kg_hide-input": false,
    "jupyter": {
     "outputs_hidden": false
    }
   },
   "outputs": [],
   "source": [
    "from mpl_toolkits.mplot3d import Axes3D\n",
    "from sklearn.preprocessing import StandardScaler\n",
    "import matplotlib.pyplot as plt # plotting\n",
    "import numpy as np # linear algebra\n",
    "import os # accessing directory structure\n",
    "\n",
    "import pandas as pd # data processing, CSV file I/O (e.g. pd.read_csv)\n"
   ]
  },
  {
   "cell_type": "markdown",
   "metadata": {},
   "source": [
    "There is 1 csv file in the current version of the dataset:\n"
   ]
  },
  {
   "cell_type": "code",
   "execution_count": 2,
   "metadata": {
    "_kg_hide-input": false,
    "jupyter": {
     "outputs_hidden": false
    }
   },
   "outputs": [
    {
     "name": "stdout",
     "output_type": "stream",
     "text": [
      "['disc_model.h5', 'disc_model_pre_trained_200.h5', 'gaze.csv', 'gaze.h5', 'gaze.json', 'real_gaze.h5', 'refiner_model.h5', 'simgan_model.h5']\n"
     ]
    }
   ],
   "source": [
    "os.chdir('C:/Users/Michael Curleee/Project/input')\n",
    "print(os.listdir('../input'))"
   ]
  },
  {
   "cell_type": "markdown",
   "metadata": {},
   "source": [
    "The next hidden code cells define functions for plotting data. Click on the \"Code\" button in the published kernel to reveal the hidden code."
   ]
  },
  {
   "cell_type": "code",
   "execution_count": 3,
   "metadata": {
    "_kg_hide-input": true,
    "jupyter": {
     "outputs_hidden": true
    }
   },
   "outputs": [],
   "source": [
    "# Distribution graphs (histogram/bar graph) of column data\n",
    "def plotPerColumnDistribution(df, nGraphShown, nGraphPerRow):\n",
    "    nunique = df.nunique()\n",
    "    df = df[[col for col in df if nunique[col] > 1 and nunique[col] < 50]] # For displaying purposes, pick columns that have between 1 and 50 unique values\n",
    "    nRow, nCol = df.shape\n",
    "    columnNames = list(df)\n",
    "    nGraphRow = (nCol + nGraphPerRow - 1) / nGraphPerRow\n",
    "    plt.figure(num = None, figsize = (6 * nGraphPerRow, 8 * nGraphRow), dpi = 80, facecolor = 'w', edgecolor = 'k')\n",
    "    for i in range(min(nCol, nGraphShown)):\n",
    "        plt.subplot(nGraphRow, nGraphPerRow, i + 1)\n",
    "        columnDf = df.iloc[:, i]\n",
    "        if (not np.issubdtype(type(columnDf.iloc[0]), np.number)):\n",
    "            valueCounts = columnDf.value_counts()\n",
    "            valueCounts.plot.bar()\n",
    "        else:\n",
    "            columnDf.hist()\n",
    "        plt.ylabel('counts')\n",
    "        plt.xticks(rotation = 90)\n",
    "        plt.title(f'{columnNames[i]} (column {i})')\n",
    "    plt.tight_layout(pad = 1.0, w_pad = 1.0, h_pad = 1.0)\n",
    "    plt.show()\n"
   ]
  },
  {
   "cell_type": "code",
   "execution_count": 5,
   "metadata": {
    "_kg_hide-input": true,
    "jupyter": {
     "outputs_hidden": true
    }
   },
   "outputs": [],
   "source": [
    "# Correlation matrix\n",
    "def plotCorrelationMatrix(df, graphWidth):\n",
    "    filename = df.dataframeName\n",
    "    df = df.dropna('columns') # drop columns with NaN\n",
    "    df = df[[col for col in df if df[col].nunique() > 1]] # keep columns where there are more than 1 unique values\n",
    "    if df.shape[1] < 2:\n",
    "        print(f'No correlation plots shown: The number of non-NaN or constant columns ({df.shape[1]}) is less than 2')\n",
    "        return\n",
    "    corr = df.corr()\n",
    "    plt.figure(num=None, figsize=(graphWidth, graphWidth), dpi=80, facecolor='w', edgecolor='k')\n",
    "    corrMat = plt.matshow(corr, fignum = 1)\n",
    "    plt.xticks(range(len(corr.columns)), corr.columns, rotation=90)\n",
    "    plt.yticks(range(len(corr.columns)), corr.columns)\n",
    "    plt.gca().xaxis.tick_bottom()\n",
    "    plt.colorbar(corrMat)\n",
    "    plt.title(f'Correlation Matrix for {filename}', fontsize=15)\n",
    "    plt.show()\n"
   ]
  },
  {
   "cell_type": "code",
   "execution_count": 6,
   "metadata": {
    "_kg_hide-input": true,
    "jupyter": {
     "outputs_hidden": true
    }
   },
   "outputs": [],
   "source": [
    "# Scatter and density plots\n",
    "def plotScatterMatrix(df, plotSize, textSize):\n",
    "    df = df.select_dtypes(include =[np.number]) # keep only numerical columns\n",
    "    # Remove rows and columns that would lead to df being singular\n",
    "    df = df.dropna('columns')\n",
    "    df = df[[col for col in df if df[col].nunique() > 1]] # keep columns where there are more than 1 unique values\n",
    "    columnNames = list(df)\n",
    "    if len(columnNames) > 10: # reduce the number of columns for matrix inversion of kernel density plots\n",
    "        columnNames = columnNames[:10]\n",
    "    df = df[columnNames]\n",
    "    ax = pd.plotting.scatter_matrix(df, alpha=0.75, figsize=[plotSize, plotSize], diagonal='kde')\n",
    "    corrs = df.corr().values\n",
    "    for i, j in zip(*plt.np.triu_indices_from(ax, k = 1)):\n",
    "        ax[i, j].annotate('Corr. coef = %.3f' % corrs[i, j], (0.8, 0.2), xycoords='axes fraction', ha='center', va='center', size=textSize)\n",
    "    plt.suptitle('Scatter and Density Plot')\n",
    "    plt.show()\n"
   ]
  },
  {
   "cell_type": "markdown",
   "metadata": {},
   "source": [
    "Now you're ready to read in the data and use the plotting functions to visualize the data."
   ]
  },
  {
   "cell_type": "markdown",
   "metadata": {},
   "source": [
    "### Let's check 1st file: ../input/gaze.csv"
   ]
  },
  {
   "cell_type": "code",
   "execution_count": 7,
   "metadata": {
    "_kg_hide-input": false,
    "jupyter": {
     "outputs_hidden": false
    }
   },
   "outputs": [
    {
     "name": "stdout",
     "output_type": "stream",
     "text": [
      "There are 1000 rows and 10 columns\n"
     ]
    }
   ],
   "source": [
    "nRowsRead = 1000 # specify 'None' if want to read whole file\n",
    "# gaze.csv has 50000 rows in reality, but we are only loading/previewing the first 1000 rows\n",
    "df1 = pd.read_csv('../input/gaze.csv', delimiter=',', nrows = nRowsRead)\n",
    "df1.dataframeName = 'gaze.csv'\n",
    "nRow, nCol = df1.shape\n",
    "print(f'There are {nRow} rows and {nCol} columns')"
   ]
  },
  {
   "cell_type": "markdown",
   "metadata": {},
   "source": [
    "Let's take a quick look at what the data looks like:"
   ]
  },
  {
   "cell_type": "code",
   "execution_count": 8,
   "metadata": {
    "_kg_hide-input": false,
    "jupyter": {
     "outputs_hidden": false
    }
   },
   "outputs": [
    {
     "data": {
      "text/html": [
       "<div>\n",
       "<style scoped>\n",
       "    .dataframe tbody tr th:only-of-type {\n",
       "        vertical-align: middle;\n",
       "    }\n",
       "\n",
       "    .dataframe tbody tr th {\n",
       "        vertical-align: top;\n",
       "    }\n",
       "\n",
       "    .dataframe thead th {\n",
       "        text-align: right;\n",
       "    }\n",
       "</style>\n",
       "<table border=\"1\" class=\"dataframe\">\n",
       "  <thead>\n",
       "    <tr style=\"text-align: right;\">\n",
       "      <th></th>\n",
       "      <th>Unnamed: 0</th>\n",
       "      <th>caruncle_2d</th>\n",
       "      <th>eye_details</th>\n",
       "      <th>eye_region_details</th>\n",
       "      <th>head_pose</th>\n",
       "      <th>interior_margin_2d</th>\n",
       "      <th>iris_2d</th>\n",
       "      <th>lighting_details</th>\n",
       "      <th>path</th>\n",
       "      <th>image_path</th>\n",
       "    </tr>\n",
       "  </thead>\n",
       "  <tbody>\n",
       "    <tr>\n",
       "      <th>0</th>\n",
       "      <td>0</td>\n",
       "      <td>['(215.0031, 192.4742, 8.8517)', '(215.7098, 1...</td>\n",
       "      <td>{'look_vec': '(0.6431, -0.1524, -0.7504, 0.000...</td>\n",
       "      <td>{'pca_shape_coeffs': ['0.0007733516', '-0.0437...</td>\n",
       "      <td>(343.9734, 203.3986, 0.0000)</td>\n",
       "      <td>['(227.0560, 193.6605, 8.9595)', '(226.1751, 1...</td>\n",
       "      <td>['(269.4162, 189.3056, 8.8182)', '(271.0880, 1...</td>\n",
       "      <td>{'light_intensity': '1.185965', 'ambient_inten...</td>\n",
       "      <td>..\\..\\..\\..\\Downloads\\UnityEyes_Windows\\UnityE...</td>\n",
       "      <td>..\\..\\..\\..\\Downloads\\UnityEyes_Windows\\UnityE...</td>\n",
       "    </tr>\n",
       "    <tr>\n",
       "      <th>1</th>\n",
       "      <td>1</td>\n",
       "      <td>['(223.6765, 162.1306, 8.9962)', '(221.7880, 1...</td>\n",
       "      <td>{'look_vec': '(0.2652, -0.2683, -0.9261, 0.000...</td>\n",
       "      <td>{'pca_shape_coeffs': ['-0.02472504', '0.026948...</td>\n",
       "      <td>(15.2429, 202.4540, 0.0000)</td>\n",
       "      <td>['(234.3076, 169.7990, 8.9854)', '(233.3026, 1...</td>\n",
       "      <td>['(244.1168, 176.3059, 8.8628)', '(244.6292, 1...</td>\n",
       "      <td>{'light_intensity': '1.193954', 'ambient_inten...</td>\n",
       "      <td>..\\..\\..\\..\\Downloads\\UnityEyes_Windows\\UnityE...</td>\n",
       "      <td>..\\..\\..\\..\\Downloads\\UnityEyes_Windows\\UnityE...</td>\n",
       "    </tr>\n",
       "    <tr>\n",
       "      <th>2</th>\n",
       "      <td>2</td>\n",
       "      <td>['(205.6100, 177.0319, 9.2145)', '(202.6687, 1...</td>\n",
       "      <td>{'look_vec': '(0.1989, 0.2961, -0.9342, 0.0000...</td>\n",
       "      <td>{'pca_shape_coeffs': ['-0.02174765', '-0.00112...</td>\n",
       "      <td>(352.7227, 176.4034, 0.0000)</td>\n",
       "      <td>['(211.9590, 187.5484, 9.2273)', '(208.9760, 1...</td>\n",
       "      <td>['(239.0684, 207.9922, 8.8796)', '(239.3991, 2...</td>\n",
       "      <td>{'light_intensity': '0.9365342', 'ambient_inte...</td>\n",
       "      <td>..\\..\\..\\..\\Downloads\\UnityEyes_Windows\\UnityE...</td>\n",
       "      <td>..\\..\\..\\..\\Downloads\\UnityEyes_Windows\\UnityE...</td>\n",
       "    </tr>\n",
       "    <tr>\n",
       "      <th>3</th>\n",
       "      <td>3</td>\n",
       "      <td>['(209.6651, 158.9221, 9.2303)', '(206.8911, 1...</td>\n",
       "      <td>{'look_vec': '(0.1647, -0.5925, -0.7885, 0.000...</td>\n",
       "      <td>{'pca_shape_coeffs': ['-0.01105405', '-0.00522...</td>\n",
       "      <td>(11.3983, 190.6636, 0.0000)</td>\n",
       "      <td>['(220.5346, 164.9280, 9.2361)', '(218.8153, 1...</td>\n",
       "      <td>['(239.2941, 160.4984, 9.0569)', '(240.1653, 1...</td>\n",
       "      <td>{'light_intensity': '0.8010478', 'ambient_inte...</td>\n",
       "      <td>..\\..\\..\\..\\Downloads\\UnityEyes_Windows\\UnityE...</td>\n",
       "      <td>..\\..\\..\\..\\Downloads\\UnityEyes_Windows\\UnityE...</td>\n",
       "    </tr>\n",
       "    <tr>\n",
       "      <th>4</th>\n",
       "      <td>4</td>\n",
       "      <td>['(208.2314, 161.6137, 9.1717)', '(204.2533, 1...</td>\n",
       "      <td>{'look_vec': '(-0.0701, 0.1484, -0.9864, 0.000...</td>\n",
       "      <td>{'pca_shape_coeffs': ['0.04512117', '0.0274486...</td>\n",
       "      <td>(17.7946, 187.9936, 0.0000)</td>\n",
       "      <td>['(220.2793, 174.3996, 9.1287)', '(216.4354, 1...</td>\n",
       "      <td>['(225.7676, 200.2958, 8.9808)', '(226.4593, 2...</td>\n",
       "      <td>{'light_intensity': '0.784719', 'ambient_inten...</td>\n",
       "      <td>..\\..\\..\\..\\Downloads\\UnityEyes_Windows\\UnityE...</td>\n",
       "      <td>..\\..\\..\\..\\Downloads\\UnityEyes_Windows\\UnityE...</td>\n",
       "    </tr>\n",
       "  </tbody>\n",
       "</table>\n",
       "</div>"
      ],
      "text/plain": [
       "   Unnamed: 0                                        caruncle_2d  \\\n",
       "0           0  ['(215.0031, 192.4742, 8.8517)', '(215.7098, 1...   \n",
       "1           1  ['(223.6765, 162.1306, 8.9962)', '(221.7880, 1...   \n",
       "2           2  ['(205.6100, 177.0319, 9.2145)', '(202.6687, 1...   \n",
       "3           3  ['(209.6651, 158.9221, 9.2303)', '(206.8911, 1...   \n",
       "4           4  ['(208.2314, 161.6137, 9.1717)', '(204.2533, 1...   \n",
       "\n",
       "                                         eye_details  \\\n",
       "0  {'look_vec': '(0.6431, -0.1524, -0.7504, 0.000...   \n",
       "1  {'look_vec': '(0.2652, -0.2683, -0.9261, 0.000...   \n",
       "2  {'look_vec': '(0.1989, 0.2961, -0.9342, 0.0000...   \n",
       "3  {'look_vec': '(0.1647, -0.5925, -0.7885, 0.000...   \n",
       "4  {'look_vec': '(-0.0701, 0.1484, -0.9864, 0.000...   \n",
       "\n",
       "                                  eye_region_details  \\\n",
       "0  {'pca_shape_coeffs': ['0.0007733516', '-0.0437...   \n",
       "1  {'pca_shape_coeffs': ['-0.02472504', '0.026948...   \n",
       "2  {'pca_shape_coeffs': ['-0.02174765', '-0.00112...   \n",
       "3  {'pca_shape_coeffs': ['-0.01105405', '-0.00522...   \n",
       "4  {'pca_shape_coeffs': ['0.04512117', '0.0274486...   \n",
       "\n",
       "                      head_pose  \\\n",
       "0  (343.9734, 203.3986, 0.0000)   \n",
       "1   (15.2429, 202.4540, 0.0000)   \n",
       "2  (352.7227, 176.4034, 0.0000)   \n",
       "3   (11.3983, 190.6636, 0.0000)   \n",
       "4   (17.7946, 187.9936, 0.0000)   \n",
       "\n",
       "                                  interior_margin_2d  \\\n",
       "0  ['(227.0560, 193.6605, 8.9595)', '(226.1751, 1...   \n",
       "1  ['(234.3076, 169.7990, 8.9854)', '(233.3026, 1...   \n",
       "2  ['(211.9590, 187.5484, 9.2273)', '(208.9760, 1...   \n",
       "3  ['(220.5346, 164.9280, 9.2361)', '(218.8153, 1...   \n",
       "4  ['(220.2793, 174.3996, 9.1287)', '(216.4354, 1...   \n",
       "\n",
       "                                             iris_2d  \\\n",
       "0  ['(269.4162, 189.3056, 8.8182)', '(271.0880, 1...   \n",
       "1  ['(244.1168, 176.3059, 8.8628)', '(244.6292, 1...   \n",
       "2  ['(239.0684, 207.9922, 8.8796)', '(239.3991, 2...   \n",
       "3  ['(239.2941, 160.4984, 9.0569)', '(240.1653, 1...   \n",
       "4  ['(225.7676, 200.2958, 8.9808)', '(226.4593, 2...   \n",
       "\n",
       "                                    lighting_details  \\\n",
       "0  {'light_intensity': '1.185965', 'ambient_inten...   \n",
       "1  {'light_intensity': '1.193954', 'ambient_inten...   \n",
       "2  {'light_intensity': '0.9365342', 'ambient_inte...   \n",
       "3  {'light_intensity': '0.8010478', 'ambient_inte...   \n",
       "4  {'light_intensity': '0.784719', 'ambient_inten...   \n",
       "\n",
       "                                                path  \\\n",
       "0  ..\\..\\..\\..\\Downloads\\UnityEyes_Windows\\UnityE...   \n",
       "1  ..\\..\\..\\..\\Downloads\\UnityEyes_Windows\\UnityE...   \n",
       "2  ..\\..\\..\\..\\Downloads\\UnityEyes_Windows\\UnityE...   \n",
       "3  ..\\..\\..\\..\\Downloads\\UnityEyes_Windows\\UnityE...   \n",
       "4  ..\\..\\..\\..\\Downloads\\UnityEyes_Windows\\UnityE...   \n",
       "\n",
       "                                          image_path  \n",
       "0  ..\\..\\..\\..\\Downloads\\UnityEyes_Windows\\UnityE...  \n",
       "1  ..\\..\\..\\..\\Downloads\\UnityEyes_Windows\\UnityE...  \n",
       "2  ..\\..\\..\\..\\Downloads\\UnityEyes_Windows\\UnityE...  \n",
       "3  ..\\..\\..\\..\\Downloads\\UnityEyes_Windows\\UnityE...  \n",
       "4  ..\\..\\..\\..\\Downloads\\UnityEyes_Windows\\UnityE...  "
      ]
     },
     "execution_count": 8,
     "metadata": {},
     "output_type": "execute_result"
    }
   ],
   "source": [
    "df1.head(5)"
   ]
  },
  {
   "cell_type": "markdown",
   "metadata": {},
   "source": [
    "Distribution graphs (histogram/bar graph) of sampled columns:"
   ]
  },
  {
   "cell_type": "code",
   "execution_count": 9,
   "metadata": {
    "_kg_hide-input": false,
    "jupyter": {
     "outputs_hidden": false
    }
   },
   "outputs": [
    {
     "data": {
      "text/plain": [
       "<Figure size 2400x512 with 0 Axes>"
      ]
     },
     "metadata": {},
     "output_type": "display_data"
    }
   ],
   "source": [
    "plotPerColumnDistribution(df1, 10, 5)"
   ]
  },
  {
   "cell_type": "markdown",
   "metadata": {},
   "source": [
    "## Conclusion\n",
    "This concludes your starter analysis! To go forward from here, click the blue \"Edit Notebook\" button at the top of the kernel. This will create a copy of the code and environment for you to edit. Delete, modify, and add code as you please. Happy Kaggling!"
   ]
  }
 ],
 "metadata": {
  "kernelspec": {
   "display_name": "Python 3",
   "language": "python",
   "name": "python3"
  },
  "language_info": {
   "codemirror_mode": {
    "name": "ipython",
    "version": 3
   },
   "file_extension": ".py",
   "mimetype": "text/x-python",
   "name": "python",
   "nbconvert_exporter": "python",
   "pygments_lexer": "ipython3",
   "version": "3.8.8"
  }
 },
 "nbformat": 4,
 "nbformat_minor": 4
}
